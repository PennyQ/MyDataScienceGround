{
  "nbformat": 4,
  "nbformat_minor": 0,
  "metadata": {
    "colab": {
      "name": "beginner.ipynb",
      "private_outputs": true,
      "provenance": [],
      "collapsed_sections": [
        "rX8mhOLljYeM"
      ],
      "toc_visible": true
    },
    "kernelspec": {
      "display_name": "Python 3",
      "language": "python",
      "name": "python3"
    },
    "language_info": {
      "codemirror_mode": {
        "name": "ipython",
        "version": 3
      },
      "file_extension": ".py",
      "mimetype": "text/x-python",
      "name": "python",
      "nbconvert_exporter": "python",
      "pygments_lexer": "ipython3",
      "version": "3.7.3"
    },
    "accelerator": "GPU"
  },
  "cells": [
    {
      "cell_type": "markdown",
      "metadata": {
        "id": "3wF5wszaj97Y"
      },
      "source": [
        "# TensorFlow quickstart"
      ]
    },
    {
      "cell_type": "markdown",
      "metadata": {
        "id": "04QgGZc9bF5D"
      },
      "source": [
        "This short introduction uses [Keras](https://www.tensorflow.org/guide/keras/overview) to:\n",
        "\n",
        "1. Build a neural network that classifies images.\n",
        "2. Train this neural network.\n",
        "3. And, finally, evaluate the accuracy of the model."
      ]
    },
    {
      "cell_type": "markdown",
      "metadata": {
        "id": "nnrWf3PCEzXL"
      },
      "source": [
        "Import TensorFlow into your program:"
      ]
    },
    {
      "cell_type": "code",
      "metadata": {
        "id": "0trJmd6DjqBZ"
      },
      "source": [
        "# from __future__ import absolute_import, division, print_function, unicode_literals\n",
        "import tensorflow as tf"
      ],
      "execution_count": null,
      "outputs": []
    },
    {
      "cell_type": "markdown",
      "metadata": {
        "id": "7NAbSZiaoJ4z"
      },
      "source": [
        "Load and prepare the [MNIST dataset](http://yann.lecun.com/exdb/mnist/). Convert the samples from integers to floating-point numbers:"
      ]
    },
    {
      "cell_type": "code",
      "metadata": {
        "id": "7FP5258xjs-v"
      },
      "source": [
        "mnist = tf.keras.datasets.mnist\n",
        "\n",
        "(x_train, y_train), (x_test, y_test) = mnist.load_data()\n",
        "x_train, x_test = x_train / 255.0, x_test / 255.0"
      ],
      "execution_count": null,
      "outputs": []
    },
    {
      "cell_type": "markdown",
      "metadata": {
        "id": "BPZ68wASog_I"
      },
      "source": [
        "Build the `tf.keras.Sequential` model by stacking layers. Choose an optimizer and loss function for training:"
      ]
    },
    {
      "cell_type": "code",
      "metadata": {
        "id": "h3IKyzTCDNGo"
      },
      "source": [
        "model = tf.keras.models.Sequential([\n",
        "  tf.keras.layers.Flatten(input_shape=(28, 28)),\n",
        "  tf.keras.layers.Dense(128, activation='relu'),\n",
        "  tf.keras.layers.Dropout(0.2),\n",
        "  tf.keras.layers.Dense(10, activation='softmax')\n",
        "])\n",
        "\n",
        "model.compile(optimizer='adam',\n",
        "              loss='sparse_categorical_crossentropy',\n",
        "              metrics=['accuracy'])"
      ],
      "execution_count": null,
      "outputs": []
    },
    {
      "cell_type": "markdown",
      "metadata": {
        "id": "ix4mEL65on-w"
      },
      "source": [
        "Train and evaluate the model:"
      ]
    },
    {
      "cell_type": "code",
      "metadata": {
        "id": "F7dTAzgHDUh7"
      },
      "source": [
        "model.fit(x_train, y_train, epochs=5, batch_size=128)\n",
        "\n",
        "model.evaluate(x_test,  y_test, verbose=2)"
      ],
      "execution_count": null,
      "outputs": []
    },
    {
      "cell_type": "markdown",
      "metadata": {
        "id": "T4JfEh7kvx6m"
      },
      "source": [
        "The image classifier is now trained to ~98% accuracy on this dataset. To learn more, read the [TensorFlow tutorials](https://www.tensorflow.org/tutorials/)."
      ]
    },
    {
      "cell_type": "markdown",
      "metadata": {
        "id": "F-75w6R1TlH2"
      },
      "source": [
        "# Cifar10"
      ]
    },
    {
      "cell_type": "code",
      "metadata": {
        "id": "VEYZMv4uTVYT"
      },
      "source": [
        "cifar10 = tf.keras.datasets.cifar10\n",
        "\n",
        "(x_train, y_train), (x_test, y_test) = cifar10.load_data()\n",
        "x_train, x_test = x_train / 255.0, x_test / 255.0"
      ],
      "execution_count": null,
      "outputs": []
    },
    {
      "cell_type": "code",
      "metadata": {
        "id": "zqLOFPkFUJq9"
      },
      "source": [
        "import numpy as np\n",
        "np.unique(y_train)"
      ],
      "execution_count": null,
      "outputs": []
    },
    {
      "cell_type": "code",
      "metadata": {
        "id": "Y1u6o770TpuC"
      },
      "source": [
        "model = tf.keras.models.Sequential([\n",
        "  tf.keras.layers.Conv2D(32, 3, activation='relu', input_shape=(32, 32, 3)),\n",
        "  tf.keras.layers.Conv2D(64, 3, activation='relu', input_shape=(32, 32, 3)),\n",
        "  tf.keras.layers.Flatten(),\n",
        "  tf.keras.layers.Dense(128, activation='relu'),\n",
        "  tf.keras.layers.Dropout(0.2),\n",
        "  tf.keras.layers.Dense(10, activation='softmax', name=\"output\")\n",
        "])\n",
        "\n",
        "model.compile(optimizer='adam',\n",
        "              loss='sparse_categorical_crossentropy',\n",
        "              metrics=['accuracy'])"
      ],
      "execution_count": null,
      "outputs": []
    },
    {
      "cell_type": "code",
      "metadata": {
        "id": "32JfnQqETzyN"
      },
      "source": [
        "print(model.summary())"
      ],
      "execution_count": null,
      "outputs": []
    },
    {
      "cell_type": "code",
      "metadata": {
        "id": "y_rytCsmTxB6"
      },
      "source": [
        "tf.keras.utils.plot_model(\n",
        "    model=model, to_file=\"dnn_model.png\", show_shapes=False, rankdir=\"LR\")"
      ],
      "execution_count": null,
      "outputs": []
    },
    {
      "cell_type": "code",
      "metadata": {
        "id": "QWmc_mcoVf5P"
      },
      "source": [
        "history = model.fit(x_train, y_train, epochs=30, batch_size=128)\n",
        "\n",
        "model.evaluate(x_test,  y_test, verbose=2)"
      ],
      "execution_count": null,
      "outputs": []
    },
    {
      "cell_type": "code",
      "metadata": {
        "id": "0RJuuXEvW3Zo"
      },
      "source": [
        "# Plot - two Conv2D layers but more filters / wider\n",
        "import matplotlib.pyplot as plt\n",
        "nrows = 1\n",
        "ncols = 2\n",
        "fig = plt.figure(figsize=(10, 5))\n",
        "\n",
        "for idx, key in enumerate([\"loss\", \"accuracy\"]):\n",
        "    ax = fig.add_subplot(nrows, ncols, idx+1)\n",
        "    plt.plot(history.history[key])\n",
        "    # plt.plot(history.history[\"val_{}\".format(key)])\n",
        "    plt.title(\"model {}\".format(key))\n",
        "    plt.ylabel(key)\n",
        "    plt.xlabel(\"epoch\")\n",
        "    plt.legend([\"train\", \"test\"], loc=\"upper left\");"
      ],
      "execution_count": null,
      "outputs": []
    },
    {
      "cell_type": "code",
      "metadata": {
        "id": "hHTPcpC0WXHJ"
      },
      "source": [
        "# Plot - two Conv2D layers\n",
        "import matplotlib.pyplot as plt\n",
        "nrows = 1\n",
        "ncols = 2\n",
        "fig = plt.figure(figsize=(10, 5))\n",
        "\n",
        "for idx, key in enumerate([\"loss\", \"accuracy\"]):\n",
        "    ax = fig.add_subplot(nrows, ncols, idx+1)\n",
        "    plt.plot(history.history[key])\n",
        "    # plt.plot(history.history[\"val_{}\".format(key)])\n",
        "    plt.title(\"model {}\".format(key))\n",
        "    plt.ylabel(key)\n",
        "    plt.xlabel(\"epoch\")\n",
        "    plt.legend([\"train\", \"test\"], loc=\"upper left\");"
      ],
      "execution_count": null,
      "outputs": []
    },
    {
      "cell_type": "code",
      "metadata": {
        "id": "e4xjIF49TaFW"
      },
      "source": [
        "# Plot - one Conv2D layer\n",
        "import matplotlib.pyplot as plt\n",
        "nrows = 1\n",
        "ncols = 2\n",
        "fig = plt.figure(figsize=(10, 5))\n",
        "\n",
        "for idx, key in enumerate([\"loss\", \"accuracy\"]):\n",
        "    ax = fig.add_subplot(nrows, ncols, idx+1)\n",
        "    plt.plot(history.history[key])\n",
        "    # plt.plot(history.history[\"val_{}\".format(key)])\n",
        "    plt.title(\"model {}\".format(key))\n",
        "    plt.ylabel(key)\n",
        "    plt.xlabel(\"epoch\")\n",
        "    plt.legend([\"train\", \"test\"], loc=\"upper left\");"
      ],
      "execution_count": null,
      "outputs": []
    },
    {
      "cell_type": "code",
      "metadata": {
        "id": "lEQqO6JAYkF0"
      },
      "source": [
        "!pip install ray"
      ],
      "execution_count": null,
      "outputs": []
    },
    {
      "cell_type": "code",
      "metadata": {
        "id": "reqFF1NdVsI-"
      },
      "source": [
        "from ray import tune\n",
        "\n",
        "\n",
        "def objective(step, alpha, beta):\n",
        "    model = tf.keras.models.Sequential([\n",
        "      tf.keras.layers.Conv2D(alpha, 3, activation='relu', input_shape=(32, 32, 3)),\n",
        "      tf.keras.layers.Conv2D(beta, 3, activation='relu', input_shape=(32, 32, 3)),\n",
        "      tf.keras.layers.Flatten(),\n",
        "      tf.keras.layers.Dense(128, activation='relu'),\n",
        "      tf.keras.layers.Dropout(0.2),\n",
        "      tf.keras.layers.Dense(10, activation='softmax', name=\"output\")\n",
        "    ])\n",
        "\n",
        "    model.compile(optimizer='adam',\n",
        "                  loss='sparse_categorical_crossentropy',\n",
        "                  metrics=['accuracy'])\n",
        "    \n",
        "    history = model.fit(x_train, y_train, epochs=30, batch_size=128)\n",
        "\n",
        "    return model.evaluate(x_test,  y_test, verbose=2)[1]\n",
        "\n",
        "def training_function(config):\n",
        "    # Hyperparameters\n",
        "    alpha, beta = config[\"alpha\"], config[\"beta\"]\n",
        "    for step in range(10):\n",
        "        # Iterative training function - can be any arbitrary training procedure.\n",
        "        intermediate_score = objective(step, alpha, beta)\n",
        "        # Feed the score back back to Tune.\n",
        "        tune.report(mean_loss=intermediate_score)\n",
        "\n",
        "\n",
        "analysis = tune.run(\n",
        "    training_function,\n",
        "    config={\n",
        "        \"alpha\": tune.choice([8, 16, 32, 64]),\n",
        "        \"beta\": tune.choice([8, 16, 32, 64])\n",
        "    })\n",
        "\n",
        "print(\"Best config: \", analysis.get_best_config(\n",
        "    metric=\"accuracy\", mode=\"max\"))\n",
        "\n",
        "# Get a dataframe for analyzing trial results.\n",
        "df = analysis.results_df"
      ],
      "execution_count": null,
      "outputs": []
    },
    {
      "cell_type": "code",
      "metadata": {
        "id": "BftG0gEMZmAY"
      },
      "source": [
        ""
      ],
      "execution_count": null,
      "outputs": []
    }
  ]
}