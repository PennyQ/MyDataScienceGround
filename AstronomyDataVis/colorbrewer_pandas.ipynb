{
 "cells": [
  {
   "cell_type": "code",
   "execution_count": 66,
   "metadata": {
    "collapsed": false
   },
   "outputs": [
    {
     "name": "stdout",
     "output_type": "stream",
     "text": [
      "   ColorName  NumOfColors Type  CritVal  ColorNum ColorLetter      R      G  \\\n",
      "36     Blues          4.0  seq      NaN       1.0           B  239.0  243.0   \n",
      "\n",
      "        B SchemeType  \n",
      "36  255.0        NaN  \n"
     ]
    },
    {
     "data": {
      "text/plain": [
       "[[0.9372549019607843, 0.9529411764705882, 1.0, 1.0],\n",
       " [0.7411764705882353, 0.8431372549019608, 0.9058823529411765, 1.0],\n",
       " [0.4196078431372549, 0.6823529411764706, 0.8392156862745098, 1.0],\n",
       " [0.12941176470588237, 0.44313725490196076, 0.7098039215686275, 1.0]]"
      ]
     },
     "execution_count": 66,
     "metadata": {},
     "output_type": "execute_result"
    }
   ],
   "source": [
    "import pandas as pd\n",
    "import numpy as np\n",
    "xl = pd.ExcelFile('ColorBrewer_all_schemes_RGBonly3.XLS')\n",
    "xl.sheet_names\n",
    "df = xl.parse('Sheet1')[:1690]\n",
    "df.tail()\n",
    "\n",
    "# select specific data series\n",
    "mask = df['ColorName'].isin(['Blues']) & df['NumOfColors'].isin([4.0]) & df['Type'].isin(['seq'])\n",
    "mask\n",
    "sel = df[mask]\n",
    "print(sel)\n",
    "index = sel.index[0] # int\n",
    "# print(index[0])\n",
    "# print(df['R'][36], df['R'][df.index.isin([36, 37, 38])])\n",
    "df_rgb = df.loc[range(index, index+int(4.0), 1)]\n",
    "# print(df['R'][index[0]])\n",
    "\n",
    "# get color array\n",
    "#TODO: get color rgb based on colorname and levels\n",
    "color = np.ones((int(4.0), 4))\n",
    "color[:, 0] = np.array(df_rgb['R'])\n",
    "color[:, 1] = np.array(df_rgb['G'])\n",
    "color[:, 2] = np.array(df_rgb['B'])\n",
    "color[:, 3] = 255.0\n",
    "color = color/255.\n",
    "color.tolist()\n",
    "# df.where(str(df['Type'] == 'seq'))  where works for ndarray\n",
    "\n",
    "# TODO: create a colormap dropdown list with all colornames\n",
    "# cm = set()\n",
    "# for item in df['ColorName']:\n",
    "#     if str(item) != 'nan':\n",
    "#         cm.add(str(item))\n",
    "# cm \n",
    "\n",
    "\n",
    "# let's say colorname is Accent and level is 4\n",
    "# for item in df['ColorName']:\n",
    "#     if item.isin(['Blues']):\n",
    "#         print(item.keys())\n",
    "\n"
   ]
  },
  {
   "cell_type": "code",
   "execution_count": 60,
   "metadata": {
    "collapsed": false,
    "scrolled": true
   },
   "outputs": [
    {
     "name": "stdout",
     "output_type": "stream",
     "text": [
      "   ColorName  NumOfColors Type  CritVal  ColorNum ColorLetter      R      G  \\\n",
      "36     Blues          4.0  seq      NaN       1.0           B  239.0  243.0   \n",
      "\n",
      "        B SchemeType  \n",
      "36  255.0        NaN  \n"
     ]
    },
    {
     "data": {
      "text/plain": [
       "array([[ 239.,  243.,  255.,    1.],\n",
       "       [ 189.,  215.,  231.,    1.],\n",
       "       [ 107.,  174.,  214.,    1.],\n",
       "       [  33.,  113.,  181.,    1.]])"
      ]
     },
     "execution_count": 60,
     "metadata": {},
     "output_type": "execute_result"
    }
   ],
   "source": [
    "\n",
    "\n",
    "# sel.keys()\n",
    "# blues = df[df['ColorName'].isin(['Blues'])]\n",
    "# level = df[df['NumOfColors'].isin(['3.0'])]\n",
    "# print(blues, level)\n",
    "#TODO: apply the colormap to isosurface \n"
   ]
  },
  {
   "cell_type": "code",
   "execution_count": 41,
   "metadata": {
    "collapsed": false
   },
   "outputs": [
    {
     "data": {
      "text/plain": [
       "True"
      ]
     },
     "execution_count": 41,
     "metadata": {},
     "output_type": "execute_result"
    }
   ],
   "source": [
    "import numpy as np\n",
    "a = np.array(range(10) )\n",
    "# a>5\n",
    "a>5\n",
    "# a\n",
    "a = 'str'\n",
    "a == 'str'"
   ]
  },
  {
   "cell_type": "code",
   "execution_count": null,
   "metadata": {
    "collapsed": true
   },
   "outputs": [],
   "source": []
  }
 ],
 "metadata": {
  "anaconda-cloud": {},
  "kernelspec": {
   "display_name": "Python [conda root]",
   "language": "python",
   "name": "conda-root-py"
  },
  "language_info": {
   "codemirror_mode": {
    "name": "ipython",
    "version": 2
   },
   "file_extension": ".py",
   "mimetype": "text/x-python",
   "name": "python",
   "nbconvert_exporter": "python",
   "pygments_lexer": "ipython2",
   "version": "2.7.12"
  }
 },
 "nbformat": 4,
 "nbformat_minor": 1
}
