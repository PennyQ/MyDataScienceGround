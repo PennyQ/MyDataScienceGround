{
 "cells": [
  {
   "cell_type": "code",
   "execution_count": 17,
   "metadata": {
    "collapsed": false
   },
   "outputs": [
    {
     "data": {
      "text/plain": [
       "(20, 10, 5)"
      ]
     },
     "execution_count": 17,
     "metadata": {},
     "output_type": "execute_result"
    }
   ],
   "source": [
    "import numpy as np\n",
    "# we have an array a and we wanna repeat it 5 times on the 3th dimention\n",
    "a = np.ones((20, 10))\n",
    "\n",
    "# Broadcast: broadcast an array to a new shape\n",
    "bc = np.broadcast_to(a.reshape(20, 10, 1), (20, 10, 5)) # repeat 5 times\n",
    "\n",
    "# Repeat: repeat elements of an array\n",
    "rp = a.reshape(20, 10, 1).repeat(5, axis=2)  \n",
    "#>>> x = np.array([[1,2],[3,4]])\n",
    "#>>> np.repeat(x, 2)\n",
    "#array([1, 1, 2, 2, 3, 3, 4, 4])\n",
    "\n",
    "# Tile: construct array by repeating A the number of times given by reps\n",
    "tl = np.tile(a.reshape(20, 10, 1), (1, 1, 5))\n",
    "\n",
    "a.reshape(20, 10, 1)\n",
    "# which is equalant to\n",
    "# a[:, :, np.newaxis]\n",
    "# and\n",
    "# np.expand_dims(a, axis=2)\n"
   ]
  },
  {
   "cell_type": "code",
   "execution_count": 33,
   "metadata": {
    "collapsed": false
   },
   "outputs": [
    {
     "data": {
      "text/plain": [
       "array([[0, 1, 2, 3, 4],\n",
       "       [0, 1, 2, 3, 4],\n",
       "       [0, 1, 2, 3, 4],\n",
       "       [0, 1, 2, 3, 4]])"
      ]
     },
     "execution_count": 33,
     "metadata": {},
     "output_type": "execute_result"
    }
   ],
   "source": [
    "import numpy as np\n",
    "x=np.arange(5).reshape(1, 5).repeat(4, axis=0)\n",
    "\n",
    "rows = np.array([0,3])\n",
    "columns = np.array([0, 4])\n",
    "\n",
    "x[np.ix_(rows, columns)]\n",
    "x[...]\n",
    "# y = x[1:8:2, : : -1]\n",
    "# obj = (slice(1, 8, 2), slice(None, None, -1)) \n",
    "# z = x[obj]\n"
   ]
  },
  {
   "cell_type": "code",
   "execution_count": null,
   "metadata": {
    "collapsed": true
   },
   "outputs": [],
   "source": [
    "file = open('test.txt', 'w')\n",
    "a = [1, 2., (2, 3, 4)]\n"
   ]
  },
  {
   "cell_type": "code",
   "execution_count": null,
   "metadata": {
    "collapsed": true
   },
   "outputs": [],
   "source": [
    "import numpy as np\n",
    "a = np.ones((10, 10, 10))\n"
   ]
  }
 ],
 "metadata": {
  "anaconda-cloud": {},
  "kernelspec": {
   "display_name": "Python [default]",
   "language": "python",
   "name": "python2"
  },
  "language_info": {
   "codemirror_mode": {
    "name": "ipython",
    "version": 2
   },
   "file_extension": ".py",
   "mimetype": "text/x-python",
   "name": "python",
   "nbconvert_exporter": "python",
   "pygments_lexer": "ipython2",
   "version": "2.7.12"
  }
 },
 "nbformat": 4,
 "nbformat_minor": 0
}
