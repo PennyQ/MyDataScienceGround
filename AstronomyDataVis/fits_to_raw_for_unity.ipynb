{
 "cells": [
  {
   "cell_type": "markdown",
   "metadata": {
    "deletable": true,
    "editable": true
   },
   "source": [
    "## Preparation for building VR model in Unity for astronomy data\n",
    "### Convert fits file to binary raw file\n",
    "method is from \"3D visualization of astronomy data cubes using immersive displays\"\n",
    "\n",
    "by Gilles Ferrand, Jayanne English, Pourang Irani\n",
    "\n",
    "ref: https://arxiv.org/abs/1607.08874"
   ]
  },
  {
   "cell_type": "markdown",
   "metadata": {
    "deletable": true,
    "editable": true
   },
   "source": [
    "### Try l1448_13co data first"
   ]
  },
  {
   "cell_type": "code",
   "execution_count": 21,
   "metadata": {
    "collapsed": true,
    "deletable": true,
    "editable": true
   },
   "outputs": [],
   "source": [
    "from astropy.io import fits\n",
    "\n",
    "hdulist = fits.open('l1448_13co.fits')\n",
    "cube = hdulist[0].data\n",
    "# And to write the cube to disk as 8-bit integers in a binary file (as expected by my loader on Unity's side):\n",
    "cube_8bit = ((cube-cube.min())/(cube.max()-cube.min())*255).astype('uint8')\n",
    "cube_8bit"
   ]
  },
  {
   "cell_type": "code",
   "execution_count": 32,
   "metadata": {
    "collapsed": false,
    "deletable": true,
    "editable": true
   },
   "outputs": [
    {
     "data": {
      "text/plain": [
       "(64, 128, 128)"
      ]
     },
     "execution_count": 32,
     "metadata": {},
     "output_type": "execute_result"
    }
   ],
   "source": [
    "# cube size needs to be the same on width, height, and depth - NOT necessary\n",
    "\n",
    "# unity has non-power of two\n",
    "\n",
    "import numpy as np\n",
    "# npad is a tuple of (n_before, n_after) for each dimension\n",
    "b = np.pad(cube_8bit, pad_width=((0, 11), (0,23), (0,23)), mode='constant', constant_values=0)\n",
    "b.transpose().tofile('l1448co.raw')\n",
    "b.shape"
   ]
  },
  {
   "cell_type": "markdown",
   "metadata": {
    "collapsed": true,
    "deletable": true,
    "editable": true
   },
   "source": [
    "### Convert 3D dust map - Orion Rings \n",
    "- all rings with distance < 1kpc\n"
   ]
  },
  {
   "cell_type": "code",
   "execution_count": 1,
   "metadata": {
    "collapsed": false,
    "deletable": true,
    "editable": true
   },
   "outputs": [
    {
     "name": "stdout",
     "output_type": "stream",
     "text": [
      "File exists. Not overwriting.\n"
     ]
    }
   ],
   "source": [
    "from dustmaps.config import config\n",
    "config['data_dir'] = '/Users/penny/Works/bayestar_dustmap'\n",
    "\n",
    "import dustmaps.bayestar\n",
    "dustmaps.bayestar.fetch()"
   ]
  },
  {
   "cell_type": "code",
   "execution_count": 19,
   "metadata": {
    "collapsed": false,
    "deletable": true,
    "editable": true
   },
   "outputs": [],
   "source": [
    "from __future__ import print_function\n",
    "from astropy.coordinates import SkyCoord\n",
    "from dustmaps.bayestar import BayestarQuery\n",
    "import numpy as np\n",
    "import astropy.units as units\n",
    "\n",
    "bayestar = BayestarQuery(max_samples=1)\n",
    "\n",
    "# get cube in specific region\n",
    "def get_cube(l0, b0, deltal=5., deltab=5., step=0.05):\n",
    "    # set up a grid of coordinates to plot, centered on the Aquila South cloud\n",
    "    l = np.arange(l0 - deltal, l0 + deltal, step)\n",
    "    b = np.arange(b0 - deltab, b0 + deltab, step)\n",
    "    l, b = np.meshgrid(l, b)\n",
    "    coords = SkyCoord(l*units.deg, b*units.deg, frame='galactic')\n",
    "    \n",
    "    # TODO: why in matplotlib the value is squared?\n",
    "#     np.sqrt(Av)[::,::-1]\n",
    "\n",
    "    # used the coefficient from Table 6 of Schlafly & Finkbeiner (2011) to convert SFD and Bayestar reddenings to magnitudes of AV.\n",
    "#     av_cube = 2.742*bayestar(coords, mode='median')\n",
    "    cube = bayestar(coords, mode='median')\n",
    "    \n",
    "    print(cube.shape)\n",
    "    return np.rot90(cube)"
   ]
  },
  {
   "cell_type": "code",
   "execution_count": 3,
   "metadata": {
    "collapsed": false,
    "deletable": true,
    "editable": true
   },
   "outputs": [],
   "source": [
    "# convert cube from accumutative \n",
    "def subtract_cube(np_array):\n",
    "    d = np_array.shape[2]\n",
    "    sort_array = np.zeros(np_array.shape)\n",
    "    print(list(reversed(range(d))))\n",
    "    for i in list(reversed(range(d))):\n",
    "        if i>0:\n",
    "            sort_array[:, :, i] = np_array[:, :, i] - np_array[:, :, i-1]\n",
    "        else:\n",
    "            sort_array[:, :, i] = np_array[:, :, i]\n",
    "    return sort_array"
   ]
  },
  {
   "cell_type": "code",
   "execution_count": 65,
   "metadata": {
    "collapsed": false,
    "deletable": true,
    "editable": true
   },
   "outputs": [
    {
     "name": "stdout",
     "output_type": "stream",
     "text": [
      "(200, 360, 31)\n",
      "[30, 29, 28, 27, 26, 25, 24, 23, 22, 21, 20, 19, 18, 17, 16, 15, 14, 13, 12, 11, 10, 9, 8, 7, 6, 5, 4, 3, 2, 1, 0]\n"
     ]
    },
    {
     "data": {
      "text/plain": [
       "(360, 200, 6)"
      ]
     },
     "execution_count": 65,
     "metadata": {},
     "output_type": "execute_result"
    },
    {
     "data": {
      "application/vnd.jupyter.widget-view+json": {
       "model_id": "7dd7d71acfbe41e0bda8b33c6a5f41fe"
      }
     },
     "metadata": {},
     "output_type": "display_data"
    }
   ],
   "source": [
    "orion_ring = get_cube(205, -15, deltal=18, deltab=10, step=0.1)\n",
    "sub_orion_ring = subtract_cube(orion_ring)\n",
    "\n",
    "\n",
    "# dist_mask=np.where(bayestar.distances.value*1000.0 <= 1000.0)\n",
    "dist_mask=np.where((bayestar.distances.value*1000.0 > 200.0) & (bayestar.distances.value*1000.0 < 1000.0)==True)\n",
    "sub_orion_ring=sub_orion_ring[:,:,dist_mask[0]]\n",
    "sub_orion_ring.shape\n",
    "\n",
    "from IPython.core.interactiveshell import InteractiveShell\n",
    "InteractiveShell.ast_node_interactivity = \"all\"\n",
    "\n",
    "import ipyvolume\n",
    "from astropy.io import fits\n",
    "ipyvolume.quickvolshow(sub_orion_ring.T, stero=True, data_min=None, level=[0.22, 0.16, 0.20], lighting=True, ambient=0.67, width=512, height=256, stereo=True, opacity=0.06)"
   ]
  },
  {
   "cell_type": "code",
   "execution_count": 69,
   "metadata": {
    "collapsed": false,
    "deletable": true,
    "editable": true
   },
   "outputs": [
    {
     "data": {
      "text/plain": [
       "3.8276898860931396"
      ]
     },
     "execution_count": 69,
     "metadata": {},
     "output_type": "execute_result"
    },
    {
     "name": "stdout",
     "output_type": "stream",
     "text": [
      "0.0 3.82768988609 0.0339702323395\n"
     ]
    },
    {
     "data": {
      "text/plain": [
       "0.0"
      ]
     },
     "execution_count": 69,
     "metadata": {},
     "output_type": "execute_result"
    },
    {
     "data": {
      "text/plain": [
       "0.90210723876953125"
      ]
     },
     "execution_count": 69,
     "metadata": {},
     "output_type": "execute_result"
    },
    {
     "data": {
      "application/vnd.jupyter.widget-view+json": {
       "model_id": "e5da3d623e4740d8b7e197a515c5abbb"
      }
     },
     "metadata": {},
     "output_type": "display_data"
    }
   ],
   "source": [
    "# And to write the cube to disk as 8-bit integers in a binary file (as expected by my loader on Unity's side):\n",
    "# TODO: a better way to normalize display, the median of array is only 0.004, while the max() is 3.82\n",
    "# ring_cube_8bit = ((sub_orion_ring-sub_orion_ring.min())/(sub_orion_ring.max()-sub_orion_ring.min())*255).astype('uint8')\n",
    "sub_orion_ring[sub_orion_ring<sub_orion_ring.mean()] = 0.\n",
    "sub_orion_ring.max()\n",
    "ring_cube_8bit = ((sub_orion_ring-sub_orion_ring.min())/(sub_orion_ring.max()-sub_orion_ring.min())*255).astype('uint8')\n",
    "print(sub_orion_ring.min(), sub_orion_ring.max(), sub_orion_ring.mean())\n",
    "np.median(sub_orion_ring)\n",
    "import numpy as np\n",
    "# npad is a tuple of (n_before, n_after) for each dimension\n",
    "npad_cube = np.pad(ring_cube_8bit, pad_width=((0, 152), (0,56), (0,2)), mode='constant', constant_values=0)\n",
    "npad_cube.transpose().tofile('orion_rings.raw')\n",
    "npad_cube.mean()\n",
    "\n",
    "ipyvolume.quickvolshow(npad_cube, stero=True, data_min=None, level=[0.22, 0.16, 0.20], lighting=True, ambient=0.67, width=512, height=256, stereo=True, opacity=0.06)"
   ]
  },
  {
   "cell_type": "code",
   "execution_count": null,
   "metadata": {
    "collapsed": true,
    "deletable": true,
    "editable": true
   },
   "outputs": [],
   "source": []
  }
 ],
 "metadata": {
  "anaconda-cloud": {},
  "kernelspec": {
   "display_name": "Python [conda env:mayavi_jupyter]",
   "language": "python",
   "name": "conda-env-mayavi_jupyter-py"
  },
  "language_info": {
   "codemirror_mode": {
    "name": "ipython",
    "version": 2
   },
   "file_extension": ".py",
   "mimetype": "text/x-python",
   "name": "python",
   "nbconvert_exporter": "python",
   "pygments_lexer": "ipython2",
   "version": "2.7.12"
  }
 },
 "nbformat": 4,
 "nbformat_minor": 2
}
