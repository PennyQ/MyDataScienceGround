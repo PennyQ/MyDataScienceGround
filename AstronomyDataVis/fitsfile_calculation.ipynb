{
 "cells": [
  {
   "cell_type": "markdown",
   "metadata": {},
   "source": [
    "## Write and open fits file with Astropy"
   ]
  },
  {
   "cell_type": "code",
   "execution_count": 8,
   "metadata": {
    "collapsed": false
   },
   "outputs": [],
   "source": [
    "import numpy as np\n",
    "from astropy.io import fits \n",
    "data = np.ones((10, 20, 30, 5))\n",
    "\n",
    "# hdul = fits.HDUList()\n",
    "# hdul.append(fits.PrimaryHDU())\n",
    "\n",
    "# for img in data:\n",
    "#     hdul.append(fits.ImageHDU(data=img))\n",
    "\n",
    "hdu = fits.PrimaryHDU(data)\n",
    "hdulist = fits.HDUList([hdu])\n",
    "\n",
    "hdulist.writeto('output-1.fits')"
   ]
  },
  {
   "cell_type": "code",
   "execution_count": 9,
   "metadata": {
    "collapsed": false
   },
   "outputs": [
    {
     "name": "stdout",
     "output_type": "stream",
     "text": [
      "Filename: ./output-1.fits\n",
      "No.    Name         Type      Cards   Dimensions   Format\n",
      "0    PRIMARY     PrimaryHDU       8   (5, 30, 20, 10)   float64   \n"
     ]
    }
   ],
   "source": [
    "from astropy.io import fits\n",
    "fitsdata = fits.open('./output-1.fits')\n",
    "fitsdata.info()"
   ]
  },
  {
   "cell_type": "markdown",
   "metadata": {
    "collapsed": true
   },
   "source": [
    "---------\n",
    "## Convert galactic coor to cartesian coor from Tom Rice's paper\n",
    "The code does not work now, d0 here is not clear yet!"
   ]
  },
  {
   "cell_type": "code",
   "execution_count": null,
   "metadata": {
    "collapsed": true
   },
   "outputs": [],
   "source": [
    "# read table data\n",
    "from astropy.io import fits\n",
    "import numpy as np\n",
    "from math import pi, cos, sin\n",
    "\n",
    "hdulist = fits.open('BGPS_3D_catalogue_HCO+.fit')\n",
    "table_data = hdulist[1].data\n",
    "# table_data.columns to radian\n",
    "b = table_data.field('_Glat')*pi/180.\n",
    "l = table_data.field('_Glon')*pi/180.\n",
    "\n",
    "\n",
    "# use algorithm in Tom Rice catalogue paper to convert galatic coor to cartesian coor\n",
    "x = d0*cos(l)*cos(b)\n",
    "y = d0*sin(l)*cos(b)\n",
    "z = d0*sin(b)"
   ]
  },
  {
   "cell_type": "markdown",
   "metadata": {},
   "source": [
    "## Extract vtk object from fits file"
   ]
  },
  {
   "cell_type": "code",
   "execution_count": 1,
   "metadata": {
    "collapsed": false
   },
   "outputs": [
    {
     "ename": "SystemExit",
     "evalue": "This program needs access to the screen.\nPlease run with a Framework build of python, and only when you are\nlogged in on the main display of your Mac.",
     "output_type": "error",
     "traceback": [
      "An exception has occurred, use %tb to see the full traceback.\n",
      "\u001b[0;31mSystemExit\u001b[0m\u001b[0;31m:\u001b[0m This program needs access to the screen.\nPlease run with a Framework build of python, and only when you are\nlogged in on the main display of your Mac.\n"
     ]
    },
    {
     "name": "stderr",
     "output_type": "stream",
     "text": [
      "/Users/penny/anaconda/lib/python2.7/site-packages/IPython/core/interactiveshell.py:2889: UserWarning: To exit: use 'exit', 'quit', or Ctrl-D.\n",
      "  warn(\"To exit: use 'exit', 'quit', or Ctrl-D.\", stacklevel=1)\n"
     ]
    }
   ],
   "source": [
    "import vtk\n",
    "from vtk.util import numpy_support\n",
    "from mayavi import mlab\n",
    "from astropy.io import fits\n",
    "\n",
    "import numpy as np\n",
    "\n",
    "hdulist = fits.open('l1448_13co.fits')\n",
    "NumPy_data = hdulist[0].data\n",
    "\n",
    "NumPy_data_shape = NumPy_data.shape\n",
    "VTK_data = numpy_support.numpy_to_vtk(num_array=NumPy_data.ravel(), deep=True, array_type=vtk.VTK_FLOAT)\n",
    "scalarfield = mlab.pipeline.scalar_field(NumPy_data)\n",
    "print('done', scalarfield)\n",
    "%tb\n",
    "# export to file not found"
   ]
  },
  {
   "cell_type": "code",
   "execution_count": null,
   "metadata": {
    "collapsed": true
   },
   "outputs": [],
   "source": [
    "# http://www.vtk.org/Wiki/VTK/Writing_VTK_files_using_python\n",
    "\n",
    "from pyevtk.hl import gridToVTK\n",
    "\n",
    "from astropy.io import fits\n",
    "import numpy as np\n",
    "\n",
    "hdulist = fits.open('l1448_13co.fits')\n",
    "NumPy_data = hdulist[0].data\n",
    "\n",
    "noSlices = 5\n",
    "juliaStacked = numpy.dstack([julia]*noSlices)\n",
    "\n",
    "x = numpy.arange(0, w+1)\n",
    "y = numpy.arange(0, h+1)\n",
    "z = numpy.arange(0, noSlices+1)\n",
    "\n",
    "gridToVTK(\"./julia\", x, y, z, cellData = {'julia': juliaStacked})"
   ]
  }
 ],
 "metadata": {
  "anaconda-cloud": {},
  "kernelspec": {
   "display_name": "Python [conda env:mayavi2]",
   "language": "python",
   "name": "conda-env-mayavi2-py"
  },
  "language_info": {
   "codemirror_mode": {
    "name": "ipython",
    "version": 2
   },
   "file_extension": ".py",
   "mimetype": "text/x-python",
   "name": "python",
   "nbconvert_exporter": "python",
   "pygments_lexer": "ipython2",
   "version": "2.7.12"
  }
 },
 "nbformat": 4,
 "nbformat_minor": 0
}
